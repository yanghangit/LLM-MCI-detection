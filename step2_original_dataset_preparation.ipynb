{
  "cells": [
    {
      "cell_type": "code",
      "execution_count": null,
      "metadata": {
        "id": "7LX4y65oAiLM"
      },
      "outputs": [],
      "source": [
        "PROJECT_HOME = \".\"\n",
        "\n",
        "# # For Colab\n",
        "\n",
        "# PROJECT_HOME = \"/content/drive/My Drive/Projects/LLM-MCI-detection\"\n",
        "\n",
        "# # Google Drive storage setup\n",
        "# from google.colab import drive\n",
        "# drive.mount('/content/drive', force_remount=True)"
      ]
    },
    {
      "cell_type": "code",
      "execution_count": null,
      "metadata": {
        "id": "u3AozrFljr--"
      },
      "outputs": [],
      "source": [
        "import os\n",
        "import re\n",
        "import pandas as pd\n",
        "from tqdm import tqdm"
      ]
    },
    {
      "cell_type": "code",
      "execution_count": null,
      "metadata": {
        "id": "SrGtxXyY5z-Y"
      },
      "outputs": [],
      "source": [
        "output_dir = os.path.join(PROJECT_HOME, \"data\")\n",
        "os.makedirs(output_dir, exist_ok=True)"
      ]
    },
    {
      "cell_type": "code",
      "execution_count": null,
      "metadata": {
        "id": "zaTMdF7azk0e"
      },
      "outputs": [],
      "source": [
        "def isEnglish(s):\n",
        "    try:\n",
        "        s.encode(encoding='utf-8').decode('ascii')\n",
        "    except UnicodeDecodeError:\n",
        "        return False\n",
        "    else:\n",
        "        return True"
      ]
    },
    {
      "cell_type": "code",
      "execution_count": null,
      "metadata": {
        "id": "Hz-ivdvkjr-_"
      },
      "outputs": [],
      "source": [
        "data = pd.read_csv(os.path.join(PROJECT_HOME, \"Pitt\", \"PItt-data.csv\"), skiprows=2)\n",
        "\n",
        "sample_records = []\n",
        "dx_data = data[['id', 'basedx', 'dx1', 'dx2', 'dx3', 'entryage', 'sex', 'race', 'educ', 'mms', 'mmse2', 'mmse3', 'mmse4']]\n",
        "\n",
        "unique_subjects = {\n",
        "    'AD': set(),\n",
        "    'MCI': set(),\n",
        "    'NC': set()\n",
        "}\n",
        "\n",
        "for idx, row in tqdm(dx_data.iterrows(), desc=\"Loading data\", total=len(dx_data)):\n",
        "    id_3_digits = str(int(row['id'])).zfill(3)\n",
        "    for visit_number, visit_code in zip([0, 1, 2, 3], ['basedx', 'dx1', 'dx2', 'dx3']):\n",
        "\n",
        "        dx_code = row[visit_code]\n",
        "        if pd.isnull(dx_code):\n",
        "            continue\n",
        "        dx_code = str(int(dx_code))\n",
        "\n",
        "        if dx_code in ['1', '100', '101']:\n",
        "            label = \"AD\"\n",
        "        elif dx_code in ['6', '7', '600', '610', '611', '720', '740']:\n",
        "            label = \"MCI\"\n",
        "        elif dx_code in ['8', '800', '821']:\n",
        "            label = \"NC\"\n",
        "        else:\n",
        "            continue\n",
        "\n",
        "        if visit_number == 0:\n",
        "            mmse_column = \"mms\"\n",
        "        elif visit_number == 1:\n",
        "            mmse_column = \"mmse2\"\n",
        "        elif visit_number == 2:\n",
        "            mmse_column = \"mmse3\"\n",
        "        elif visit_number == 3:\n",
        "            mmse_column = \"mmse4\"\n",
        "\n",
        "        transcript_file_name = \"%s-%d.txt\" % (id_3_digits, visit_number)\n",
        "        transcript_path = os.path.join(PROJECT_HOME, \"transcripts\", transcript_file_name)\n",
        "\n",
        "        if not os.path.exists(transcript_path):\n",
        "            continue\n",
        "\n",
        "        with open(transcript_path) as transcript_f:\n",
        "            text = transcript_f.read().strip()\n",
        "            if not isEnglish(text):\n",
        "                text = re.sub(r'[^\\x00-\\x7F]+', ' ', text)\n",
        "\n",
        "        unique_subjects[label].add(id_3_digits)\n",
        "\n",
        "        sample_records.append({\n",
        "            \"label\": label,\n",
        "            \"text\": text,\n",
        "            \"age\": row['entryage'],\n",
        "            \"gender\": row['sex'],\n",
        "            \"race\": row['race'],\n",
        "            \"education\": row['educ'],\n",
        "            \"MMSE\": row[mmse_column]\n",
        "        })\n",
        "\n",
        "sample_df = pd.DataFrame.from_records(sample_records)"
      ]
    },
    {
      "cell_type": "code",
      "execution_count": null,
      "metadata": {
        "id": "ZvgPJ-JUU6sx"
      },
      "outputs": [],
      "source": [
        "print(\"# of NC subjects: %d\" % len(unique_subjects['NC']))\n",
        "print(\"# of MCI subjects: %d\" % len(unique_subjects['MCI']))\n",
        "print(\"# of AD subjects: %d\" % len(unique_subjects['AD']))"
      ]
    },
    {
      "cell_type": "code",
      "execution_count": null,
      "metadata": {
        "id": "TU9v0BN2ULjO"
      },
      "outputs": [],
      "source": [
        "print(\"# of NC samples: %d\" % len(sample_df[sample_df['label']=='NC']))\n",
        "print(\"# of MCI samples: %d\" % len(sample_df[sample_df['label']=='MCI']))\n",
        "print(\"# of AD samples: %d\" % len(sample_df[sample_df['label']=='AD']))"
      ]
    },
    {
      "cell_type": "code",
      "execution_count": null,
      "metadata": {
        "id": "qiB6lfPf2v0B"
      },
      "outputs": [],
      "source": [
        "sample_df.to_csv(os.path.join(PROJECT_HOME, 'data', 'original.csv'), index=False)"
      ]
    }
  ],
  "metadata": {
    "colab": {
      "machine_shape": "hm",
      "provenance": []
    },
    "kernelspec": {
      "display_name": "Python 3",
      "name": "python3"
    },
    "language_info": {
      "codemirror_mode": {
        "name": "ipython",
        "version": 3
      },
      "file_extension": ".py",
      "mimetype": "text/x-python",
      "name": "python",
      "nbconvert_exporter": "python",
      "pygments_lexer": "ipython3",
      "version": "3.11.5"
    }
  },
  "nbformat": 4,
  "nbformat_minor": 0
}
