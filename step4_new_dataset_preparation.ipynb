{
  "cells": [
    {
      "cell_type": "code",
      "execution_count": null,
      "metadata": {
        "id": "HCvcuZ_MAzN_"
      },
      "outputs": [],
      "source": [
        "PROJECT_HOME = \".\"\n",
        "\n",
        "# # For Colab\n",
        "\n",
        "# PROJECT_HOME = \"/content/drive/My Drive/Projects/LLM-MCI-detection\"\n",
        "\n",
        "# # Google Drive storage setup\n",
        "# from google.colab import drive\n",
        "# drive.mount('/content/drive', force_remount=True)"
      ]
    },
    {
      "cell_type": "code",
      "execution_count": null,
      "metadata": {
        "id": "u3AozrFljr--"
      },
      "outputs": [],
      "source": [
        "import os\n",
        "import pandas as pd"
      ]
    },
    {
      "cell_type": "code",
      "execution_count": null,
      "metadata": {
        "id": "SrGtxXyY5z-Y"
      },
      "outputs": [],
      "source": [
        "output_dir = os.path.join(PROJECT_HOME, \"data\")\n",
        "os.makedirs(output_dir, exist_ok=True)"
      ]
    },
    {
      "cell_type": "code",
      "execution_count": null,
      "metadata": {
        "id": "lBQ1SGqV-5lr"
      },
      "outputs": [],
      "source": [
        "llm_model_names = [\"gemma-2-9B\", \"llama-3.1-8B\", \"gpt-35-turbo\", \"gpt-4\"]"
      ]
    },
    {
      "cell_type": "code",
      "execution_count": null,
      "metadata": {
        "id": "yifw93lz6qk2"
      },
      "outputs": [],
      "source": [
        "N_fold_observational_generation = 5\n",
        "N_fold_cross_lingual_generation = 5"
      ]
    },
    {
      "cell_type": "code",
      "execution_count": null,
      "metadata": {
        "id": "3rX2LfMNnLtz"
      },
      "outputs": [],
      "source": [
        "original_data = pd.read_csv(os.path.join(PROJECT_HOME, 'data', 'original.csv'))"
      ]
    },
    {
      "cell_type": "code",
      "execution_count": null,
      "metadata": {
        "id": "0OZuICDslKVW"
      },
      "outputs": [],
      "source": [
        "for llm_model_name in llm_model_names:\n",
        "    for generation_type in [\"observational\", \"cross-lingual\", \"counterfactual\"]:\n",
        "        # some generation types may have multiple runs to get a balanced dataset\n",
        "        if generation_type == \"counterfactual\":\n",
        "            base_dirs = [os.path.join(PROJECT_HOME, \"data\", \"%s-generation\" % generation_type)]\n",
        "        elif generation_type == \"observational\":\n",
        "            base_dirs = [os.path.join(PROJECT_HOME, \"data\", \"%s-generation\" % generation_type, \"%d\" % i) for i in range(N_fold_observational_generation)]\n",
        "        elif generation_type == \"cross-lingual\":\n",
        "            base_dirs = [os.path.join(PROJECT_HOME, \"data\", \"%s-generation\" % generation_type, \"%d\" % i) for i in range(N_fold_observational_generation)]\n",
        "\n",
        "        records = []\n",
        "        for base_dir in base_dirs:\n",
        "            if not os.path.exists(os.path.join(base_dir)):\n",
        "                continue\n",
        "\n",
        "            generated_file_names = [file_name for file_name in os.listdir(os.path.join(base_dir, llm_model_name)) if file_name.endswith(\".txt\")]\n",
        "\n",
        "            for txt_file_name in generated_file_names:\n",
        "                file_idx = int(txt_file_name.split(\".\")[0])\n",
        "                original_row = original_data.iloc[file_idx]\n",
        "\n",
        "                # Original label\n",
        "                original_label = original_row['label']\n",
        "                assert original_label in [\"NC\", \"MCI\"]\n",
        "\n",
        "                # Controlled variables\n",
        "                age = original_row['age']\n",
        "                gender = original_row['gender']\n",
        "                race = original_row['race']\n",
        "                education = original_row['education']\n",
        "\n",
        "                # Label based on how samples are geneated\n",
        "                if generation_type == \"counterfactual\":\n",
        "                    label = \"MCI\" if original_label == \"NC\" else \"NC\"\n",
        "                elif generation_type in [\"observational\", \"cross-lingual\"]:\n",
        "                    label = original_label\n",
        "\n",
        "                line_header = \"Text\"\n",
        "                if generation_type == \"cross-lingual\":\n",
        "                    line_header = \"Chinese\"\n",
        "\n",
        "                with open(os.path.join(base_dir, llm_model_name, txt_file_name)) as txt_file:\n",
        "                    lines = txt_file.readlines()\n",
        "                    non_empty_lines = []\n",
        "                    for line in lines:\n",
        "                        if line.strip() == \"\":\n",
        "                            continue\n",
        "                        non_empty_lines.append(line.strip())\n",
        "                    text = None\n",
        "                    for line_number, line in enumerate(non_empty_lines):\n",
        "\n",
        "                        line = line.lstrip() # remove the spaces at the begining\n",
        "                        line = line.replace(\"**\", \"\") # \"**Text:**\" => \"Text:\"\n",
        "                        if text is None and line.startswith(line_header):\n",
        "                            \"\"\"\n",
        "\n",
        "                            Text: [new text data]\n",
        "\n",
        "                            Text:\n",
        "                            [new text data]\n",
        "\n",
        "                            \"\"\"\n",
        "                            text = line.split(\":\")[1].strip()\n",
        "                            if text == \"\": # Use the next line\n",
        "                                text = non_empty_lines[line_number+1].strip()\n",
        "                                if text == \"\":\n",
        "                                    raise ValueError(\"Cannot find transcription: %s\" % os.path.join(base_dir, llm_model_name, txt_file_name))\n",
        "                            records.append({\n",
        "                                \"index\": file_idx,\n",
        "                                \"label\": label,\n",
        "                                \"age\": age,\n",
        "                                \"gender\": gender,\n",
        "                                \"race\": race,\n",
        "                                \"education\": education,\n",
        "                                \"text\": text\n",
        "                            })\n",
        "                    if text is None:\n",
        "                        print(\"No data for %s\" % os.path.join(base_dir, llm_model_name, txt_file_name))\n",
        "\n",
        "        new_df = pd.DataFrame(records)\n",
        "        print(\"# of %s generation samples (%s): %d\" % (generation_type, llm_model_name, len(new_df)))\n",
        "        new_df.to_csv(os.path.join(output_dir, \"%s_generation_%s.csv\" % (generation_type, llm_model_name)), index=False)"
      ]
    }
  ],
  "metadata": {
    "colab": {
      "machine_shape": "hm",
      "provenance": []
    },
    "kernelspec": {
      "display_name": "Python 3",
      "name": "python3"
    },
    "language_info": {
      "codemirror_mode": {
        "name": "ipython",
        "version": 3
      },
      "file_extension": ".py",
      "mimetype": "text/x-python",
      "name": "python",
      "nbconvert_exporter": "python",
      "pygments_lexer": "ipython3",
      "version": "3.11.5"
    }
  },
  "nbformat": 4,
  "nbformat_minor": 0
}
