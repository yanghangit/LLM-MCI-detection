{
  "cells": [
    {
      "cell_type": "code",
      "execution_count": null,
      "metadata": {
        "id": "dmw3DvbpAXZE"
      },
      "outputs": [],
      "source": [
        "PROJECT_HOME = \".\"\n",
        "\n",
        "# # For Colab\n",
        "\n",
        "# PROJECT_HOME = \"/content/drive/My Drive/Projects/LLM-MCI-detection\"\n",
        "\n",
        "# # Google Drive storage setup\n",
        "# from google.colab import drive\n",
        "# drive.mount('/content/drive', force_remount=True)"
      ]
    },
    {
      "cell_type": "code",
      "execution_count": null,
      "metadata": {
        "id": "RxzzJktp3G5U"
      },
      "outputs": [],
      "source": [
        "%%capture\n",
        "%pip install git+https://github.com/openai/whisper.git"
      ]
    },
    {
      "cell_type": "code",
      "execution_count": null,
      "metadata": {
        "id": "a2HtSZjBJhJW"
      },
      "outputs": [],
      "source": [
        "!sudo apt update >/dev/null 2>&1 && sudo apt install ffmpeg >/dev/null 2>&1"
      ]
    },
    {
      "cell_type": "code",
      "execution_count": null,
      "metadata": {
        "id": "u3AozrFljr--"
      },
      "outputs": [],
      "source": [
        "import os\n",
        "import whisper\n",
        "from tqdm import tqdm"
      ]
    },
    {
      "cell_type": "code",
      "execution_count": null,
      "metadata": {
        "id": "3rKBcFOsyDyq"
      },
      "outputs": [],
      "source": [
        "output_dir = os.path.join(PROJECT_HOME, \"transcripts\")\n",
        "os.makedirs(output_dir, exist_ok=True)"
      ]
    },
    {
      "cell_type": "code",
      "execution_count": null,
      "metadata": {
        "id": "Hz-ivdvkjr-_"
      },
      "outputs": [],
      "source": [
        "audio_file_paths = []\n",
        "\n",
        "for folder_name in [\"dementia\", \"control\"]:\n",
        "\n",
        "    data_dir = os.path.join(PROJECT_HOME, \"Pitt\", \"cookie\", folder_name)\n",
        "    for file_name in os.listdir(data_dir):\n",
        "        if file_name.endswith('.mp3'):\n",
        "            file_path = os.path.join(data_dir, file_name)\n",
        "            audio_file_paths.append(file_path)"
      ]
    },
    {
      "cell_type": "code",
      "execution_count": null,
      "metadata": {
        "id": "6ZEXo58Gzb-5"
      },
      "outputs": [],
      "source": [
        "assert len(audio_file_paths) == len(set(audio_file_paths))"
      ]
    },
    {
      "cell_type": "code",
      "execution_count": null,
      "metadata": {
        "id": "gdNPnTbnbpIZ"
      },
      "outputs": [],
      "source": [
        "model = whisper.load_model(\"large-v3\", download_root=os.path.join(PROJECT_HOME, \"whisper\"))"
      ]
    },
    {
      "cell_type": "code",
      "execution_count": null,
      "metadata": {
        "id": "G1Ebx22qM70r"
      },
      "outputs": [],
      "source": [
        "subject_records = []\n",
        "for file_path in tqdm(audio_file_paths, \"Generating audio transcript\"):\n",
        "    result = model.transcribe(file_path, prompt=\"Umm, let me think like, hmm... Okay, here's what I'm, like, thinking.\")\n",
        "    text = result[\"text\"].strip()\n",
        "    with open(os.path.join(output_dir, os.path.basename(file_path).replace(\".mp3\", \".txt\")), \"w\") as transcript_f:\n",
        "        transcript_f.write(\"%s\\n\" % text)"
      ]
    }
  ],
  "metadata": {
    "accelerator": "GPU",
    "colab": {
      "gpuType": "V100",
      "machine_shape": "hm",
      "provenance": []
    },
    "kernelspec": {
      "display_name": "Python 3",
      "name": "python3"
    },
    "language_info": {
      "codemirror_mode": {
        "name": "ipython",
        "version": 3
      },
      "file_extension": ".py",
      "mimetype": "text/x-python",
      "name": "python",
      "nbconvert_exporter": "python",
      "pygments_lexer": "ipython3",
      "version": "3.11.5"
    }
  },
  "nbformat": 4,
  "nbformat_minor": 0
}
